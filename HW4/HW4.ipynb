{
 "cells": [
  {
   "cell_type": "code",
   "execution_count": 9,
   "id": "3a4fe99e",
   "metadata": {},
   "outputs": [],
   "source": [
    "import tensorflow.keras as keras\n",
    "from tensorflow.keras.datasets import cifar10\n",
    "from tensorflow.keras.preprocessing.image import ImageDataGenerator\n",
    "from tensorflow.keras.models import Sequential\n",
    "from tensorflow.keras.layers import Dense, Dropout, Activation, Flatten\n",
    "from tensorflow.keras.layers import Conv2D, MaxPooling2D\n",
    "\n",
    "import numpy as np\n",
    "import matplotlib.pyplot as plt"
   ]
  },
  {
   "cell_type": "code",
   "execution_count": 2,
   "id": "3e80617f",
   "metadata": {},
   "outputs": [],
   "source": [
    "classes=['самолет', 'автомобиль', 'птица', 'кот', 'олень', 'собака', 'лягушка', 'лошадь', 'корабль', 'грузовик']"
   ]
  },
  {
   "cell_type": "code",
   "execution_count": 13,
   "id": "846174f3",
   "metadata": {},
   "outputs": [
    {
     "name": "stdout",
     "output_type": "stream",
     "text": [
      "x_train shape: (50000, 32, 32, 3)\n",
      "50000 тренировочные примеры\n",
      "10000 тестовые примеры\n"
     ]
    }
   ],
   "source": [
    "# установка параметров нейросети\n",
    "batch_size = 32\n",
    "num_classes = 10\n",
    "epochs = 10\n",
    "data_augmentation = True\n",
    "num_predictions = 20\n",
    "\n",
    "# разделение тренировочной и тестовой выборки\n",
    "(x_train, y_train), (x_test, y_test) = cifar10.load_data()\n",
    "print('x_train shape:', x_train.shape)\n",
    "print(x_train.shape[0], 'тренировочные примеры')\n",
    "print(x_test.shape[0], 'тестовые примеры')\n",
    "\n",
    "# преобразование матрицы чисел 0-9 в бинарную матрицу чисел 0-1\n",
    "y_train = keras.utils.to_categorical(y_train, num_classes)\n",
    "y_test = keras.utils.to_categorical(y_test, num_classes)\n",
    "\n",
    "\n",
    "x_train = x_train.astype('float32')\n",
    "x_test = x_test.astype('float32')\n",
    "x_train /= 255\n",
    "x_test /= 255"
   ]
  },
  {
   "cell_type": "code",
   "execution_count": 14,
   "id": "f16b6b81",
   "metadata": {},
   "outputs": [
    {
     "data": {
      "image/png": "[encoded data removed]",
      "text/plain": [
       "<Figure size 432x288 with 1 Axes>"
      ]
     },
     "metadata": {
      "needs_background": "light"
     },
     "output_type": "display_data"
    }
   ],
   "source": [
    "N = 32\n",
    "\n",
    "plt.imshow(x_test[N][:,:,:])\n",
    "plt.title('это : '+classes[np.argmax(y_test[N,:])])\n",
    "plt.show()"
   ]
  },
  {
   "cell_type": "markdown",
   "id": "55a74fac",
   "metadata": {},
   "source": [
    "Для начала возьмём конфигурацию сети что использовалась на занятии, увеличим количество эпох до 10 и будем генерировать дополнительные изображения для обучения"
   ]
  },
  {
   "cell_type": "code",
   "execution_count": 15,
   "id": "a69ea6f9",
   "metadata": {},
   "outputs": [
    {
     "name": "stdout",
     "output_type": "stream",
     "text": [
      "Использование data augmentation в реальном времени\n",
      "Epoch 1/10\n"
     ]
    },
    {
     "name": "stderr",
     "output_type": "stream",
     "text": [
      "C:\\Users\\fedic\\AppData\\Local\\Temp/ipykernel_254380/261158853.py:68: UserWarning: `Model.fit_generator` is deprecated and will be removed in a future version. Please use `Model.fit`, which supports generators.\n",
      "  model.fit_generator(datagen.flow(x_train, y_train,\n"
     ]
    },
    {
     "name": "stdout",
     "output_type": "stream",
     "text": [
      "1563/1563 [==============================] - 178s 113ms/step - loss: 2.1236 - accuracy: 0.2086 - val_loss: 1.9216 - val_accuracy: 0.3119\n",
      "Epoch 2/10\n",
      "1563/1563 [==============================] - 163s 104ms/step - loss: 1.8605 - accuracy: 0.3213 - val_loss: 1.6551 - val_accuracy: 0.4079\n",
      "Epoch 3/10\n",
      "1563/1563 [==============================] - 165s 106ms/step - loss: 1.6850 - accuracy: 0.3841 - val_loss: 1.4740 - val_accuracy: 0.4621\n",
      "Epoch 4/10\n",
      "1563/1563 [==============================] - 167s 107ms/step - loss: 1.5720 - accuracy: 0.4261 - val_loss: 1.5291 - val_accuracy: 0.4513\n",
      "Epoch 5/10\n",
      "1563/1563 [==============================] - 179s 115ms/step - loss: 1.4982 - accuracy: 0.4529 - val_loss: 1.4011 - val_accuracy: 0.4920\n",
      "Epoch 6/10\n",
      "1563/1563 [==============================] - 213s 136ms/step - loss: 1.4372 - accuracy: 0.4794 - val_loss: 1.2647 - val_accuracy: 0.5453\n",
      "Epoch 7/10\n",
      "1563/1563 [==============================] - 201s 128ms/step - loss: 1.3827 - accuracy: 0.4985 - val_loss: 1.2621 - val_accuracy: 0.5440\n",
      "Epoch 8/10\n",
      "1563/1563 [==============================] - 199s 127ms/step - loss: 1.3428 - accuracy: 0.5161 - val_loss: 1.2499 - val_accuracy: 0.5493\n",
      "Epoch 9/10\n",
      "1563/1563 [==============================] - 190s 121ms/step - loss: 1.2959 - accuracy: 0.5341 - val_loss: 1.1708 - val_accuracy: 0.5843\n",
      "Epoch 10/10\n",
      "1563/1563 [==============================] - 232s 148ms/step - loss: 1.2594 - accuracy: 0.5508 - val_loss: 1.1450 - val_accuracy: 0.5883\n",
      "313/313 [==============================] - 14s 44ms/step - loss: 1.1450 - accuracy: 0.5883\n",
      "Test loss: 1.1450269222259521\n",
      "Test accuracy: 0.5882999897003174\n"
     ]
    }
   ],
   "source": [
    "# конфигурирование слоев нейросети\n",
    "model = Sequential()\n",
    "\n",
    "# слои нейросети отвественные за свертку и max-pooling\n",
    "model.add(Conv2D(32, (3, 3), padding='same',\n",
    "                 input_shape=x_train.shape[1:]))\n",
    "model.add(Activation('relu'))\n",
    "model.add(Conv2D(32, (3, 3)))\n",
    "model.add(Activation('relu'))\n",
    "model.add(MaxPooling2D(pool_size=(2, 2)))\n",
    "model.add(Dropout( 0.25))\n",
    "\n",
    "model.add(Conv2D(64, (3, 3), padding='same'))\n",
    "model.add(Activation('relu'))\n",
    "model.add(Conv2D(64, (3, 3)))\n",
    "model.add(Activation('relu'))\n",
    "model.add(MaxPooling2D(pool_size=(2, 2)))\n",
    "model.add(Dropout(0.25))\n",
    "\n",
    "# полносвязные слои нейронной сети\n",
    "model.add(Flatten())\n",
    "model.add(Dense(512))\n",
    "model.add(Activation('relu'))\n",
    "model.add(Dropout(0.5))\n",
    "model.add(Dense(num_classes))\n",
    "model.add(Activation('softmax'))\n",
    "\n",
    "# компиляция модели\n",
    "model.compile(loss='categorical_crossentropy',\n",
    "              optimizer='SGD',\n",
    "              metrics=['accuracy'])\n",
    "\n",
    "\n",
    "\n",
    "if not data_augmentation:\n",
    "    print('Не используется data augmentation')\n",
    "    model.fit(x_train, y_train,\n",
    "              batch_size=batch_size,\n",
    "              epochs=epochs,\n",
    "              validation_data=(x_test, y_test),\n",
    "              shuffle=True)\n",
    "else:\n",
    "    print('Использование data augmentation в реальном времени')\n",
    "    # Препроцессинг и data augmentation в реальном времени:\n",
    "    datagen = ImageDataGenerator(\n",
    "        featurewise_center=False,\n",
    "        samplewise_center=False,\n",
    "        featurewise_std_normalization=False,\n",
    "        samplewise_std_normalization=False,\n",
    "        zca_whitening=False, \n",
    "        zca_epsilon=1e-06, \n",
    "        rotation_range=5, \n",
    "        width_shift_range=0.1,\n",
    "        height_shift_range=0.1,\n",
    "        shear_range=0., \n",
    "        zoom_range=0., \n",
    "        channel_shift_range=0.,\n",
    "        fill_mode='nearest',\n",
    "        cval=0.,\n",
    "        horizontal_flip=True,\n",
    "        vertical_flip=False,\n",
    "        rescale=None,\n",
    "        preprocessing_function=None,\n",
    "        data_format=None,\n",
    "        validation_split=0.0)\n",
    "\n",
    "    # запуск data augmentation через fit_generator\n",
    "    model.fit_generator(datagen.flow(x_train, y_train,\n",
    "                                     batch_size=batch_size),\n",
    "                        epochs=epochs,\n",
    "                        validation_data=(x_test, y_test),\n",
    "                        workers=-1)\n",
    "\n",
    "\n",
    "# проверка работы обученной модели\n",
    "scores = model.evaluate(x_test, y_test, verbose=1)\n",
    "print('Test loss:', scores[0])\n",
    "print('Test accuracy:', scores[1])"
   ]
  },
  {
   "cell_type": "code",
   "execution_count": 17,
   "id": "491d6410",
   "metadata": {},
   "outputs": [
    {
     "name": "stdout",
     "output_type": "stream",
     "text": [
      "1/1 [==============================] - 0s 25ms/step\n"
     ]
    },
    {
     "data": {
      "image/png": "[encoded data removed]",
      "text/plain": [
       "<Figure size 432x288 with 1 Axes>"
      ]
     },
     "metadata": {
      "needs_background": "light"
     },
     "output_type": "display_data"
    }
   ],
   "source": [
    "N = 32\n",
    "y_p=model.predict(x_test[N:N+1][:,:,:])\n",
    "y_t = np.argmax(y_test[N:N+1], axis = 1 )\n",
    "y_i = np.argmax(y_p, axis = 1 )\n",
    "plt.imshow(x_test[N][:,:,:])\n",
    "plt.title('это : '+classes[y_t[0]]+'- опознан как : '+classes[y_i[0]])\n",
    "plt.show()"
   ]
  },
  {
   "cell_type": "markdown",
   "id": "0d24d8b1",
   "metadata": {},
   "source": [
    "Теперь ради эксперимента увеличим количество нейронов только на участке полносвязной сети"
   ]
  },
  {
   "cell_type": "code",
   "execution_count": 18,
   "id": "e35df2b1",
   "metadata": {},
   "outputs": [
    {
     "name": "stdout",
     "output_type": "stream",
     "text": [
      "Использование data augmentation в реальном времени\n",
      "Epoch 1/10\n"
     ]
    },
    {
     "name": "stderr",
     "output_type": "stream",
     "text": [
      "C:\\Users\\fedic\\AppData\\Local\\Temp/ipykernel_254380/1304862489.py:68: UserWarning: `Model.fit_generator` is deprecated and will be removed in a future version. Please use `Model.fit`, which supports generators.\n",
      "  model.fit_generator(datagen.flow(x_train, y_train,\n"
     ]
    },
    {
     "name": "stdout",
     "output_type": "stream",
     "text": [
      "1563/1563 [==============================] - 198s 126ms/step - loss: 2.0837 - accuracy: 0.2290 - val_loss: 1.8654 - val_accuracy: 0.3224\n",
      "Epoch 2/10\n",
      "1563/1563 [==============================] - 239s 153ms/step - loss: 1.8112 - accuracy: 0.3413 - val_loss: 1.5942 - val_accuracy: 0.4221\n",
      "Epoch 3/10\n",
      "1563/1563 [==============================] - 224s 143ms/step - loss: 1.6657 - accuracy: 0.3905 - val_loss: 1.4644 - val_accuracy: 0.4636\n",
      "Epoch 4/10\n",
      "1563/1563 [==============================] - 188s 120ms/step - loss: 1.5416 - accuracy: 0.4356 - val_loss: 1.3978 - val_accuracy: 0.4996\n",
      "Epoch 5/10\n",
      "1563/1563 [==============================] - 192s 123ms/step - loss: 1.4590 - accuracy: 0.4676 - val_loss: 1.2790 - val_accuracy: 0.5417\n",
      "Epoch 6/10\n",
      "1563/1563 [==============================] - 188s 120ms/step - loss: 1.3898 - accuracy: 0.4960 - val_loss: 1.2482 - val_accuracy: 0.5500\n",
      "Epoch 7/10\n",
      "1563/1563 [==============================] - 188s 120ms/step - loss: 1.3371 - accuracy: 0.5176 - val_loss: 1.1424 - val_accuracy: 0.5948\n",
      "Epoch 8/10\n",
      "1563/1563 [==============================] - 187s 120ms/step - loss: 1.2854 - accuracy: 0.5401 - val_loss: 1.3027 - val_accuracy: 0.5466\n",
      "Epoch 9/10\n",
      "1563/1563 [==============================] - 194s 124ms/step - loss: 1.2446 - accuracy: 0.5555 - val_loss: 1.1190 - val_accuracy: 0.6033\n",
      "Epoch 10/10\n",
      "1563/1563 [==============================] - 189s 121ms/step - loss: 1.2064 - accuracy: 0.5674 - val_loss: 1.1309 - val_accuracy: 0.5998\n",
      "313/313 [==============================] - 9s 28ms/step - loss: 1.1309 - accuracy: 0.5998\n",
      "Test loss: 1.130940556526184\n",
      "Test accuracy: 0.5997999906539917\n"
     ]
    }
   ],
   "source": [
    "# конфигурирование слоев нейросети\n",
    "model = Sequential()\n",
    "\n",
    "# слои нейросети отвественные за свертку и max-pooling\n",
    "model.add(Conv2D(32, (3, 3), padding='same',\n",
    "                 input_shape=x_train.shape[1:]))\n",
    "model.add(Activation('relu'))\n",
    "model.add(Conv2D(32, (3, 3)))\n",
    "model.add(Activation('relu'))\n",
    "model.add(MaxPooling2D(pool_size=(2, 2)))\n",
    "model.add(Dropout( 0.25))\n",
    "\n",
    "model.add(Conv2D(64, (3, 3), padding='same'))\n",
    "model.add(Activation('relu'))\n",
    "model.add(Conv2D(64, (3, 3)))\n",
    "model.add(Activation('relu'))\n",
    "model.add(MaxPooling2D(pool_size=(2, 2)))\n",
    "model.add(Dropout(0.25))\n",
    "\n",
    "# полносвязные слои нейронной сети\n",
    "model.add(Flatten())\n",
    "model.add(Dense(1024))\n",
    "model.add(Activation('relu'))\n",
    "model.add(Dropout(0.5))\n",
    "model.add(Dense(num_classes))\n",
    "model.add(Activation('softmax'))\n",
    "\n",
    "# компиляция модели\n",
    "model.compile(loss='categorical_crossentropy',\n",
    "              optimizer='SGD',\n",
    "              metrics=['accuracy'])\n",
    "\n",
    "\n",
    "\n",
    "if not data_augmentation:\n",
    "    print('Не используется data augmentation')\n",
    "    model.fit(x_train, y_train,\n",
    "              batch_size=batch_size,\n",
    "              epochs=epochs,\n",
    "              validation_data=(x_test, y_test),\n",
    "              shuffle=True)\n",
    "else:\n",
    "    print('Использование data augmentation в реальном времени')\n",
    "    # Препроцессинг и data augmentation в реальном времени:\n",
    "    datagen = ImageDataGenerator(\n",
    "        featurewise_center=False,\n",
    "        samplewise_center=False,\n",
    "        featurewise_std_normalization=False,\n",
    "        samplewise_std_normalization=False,\n",
    "        zca_whitening=False, \n",
    "        zca_epsilon=1e-06, \n",
    "        rotation_range=5, \n",
    "        width_shift_range=0.1,\n",
    "        height_shift_range=0.1,\n",
    "        shear_range=0., \n",
    "        zoom_range=0., \n",
    "        channel_shift_range=0.,\n",
    "        fill_mode='nearest',\n",
    "        cval=0.,\n",
    "        horizontal_flip=True,\n",
    "        vertical_flip=False,\n",
    "        rescale=None,\n",
    "        preprocessing_function=None,\n",
    "        data_format=None,\n",
    "        validation_split=0.0)\n",
    "\n",
    "    # запуск data augmentation через fit_generator\n",
    "    model.fit_generator(datagen.flow(x_train, y_train,\n",
    "                                     batch_size=batch_size),\n",
    "                        epochs=epochs,\n",
    "                        validation_data=(x_test, y_test),\n",
    "                        workers=-1)\n",
    "\n",
    "\n",
    "# проверка работы обученной модели\n",
    "scores = model.evaluate(x_test, y_test, verbose=1)\n",
    "print('Test loss:', scores[0])\n",
    "print('Test accuracy:', scores[1])"
   ]
  },
  {
   "cell_type": "code",
   "execution_count": 19,
   "id": "3b694e1c",
   "metadata": {},
   "outputs": [
    {
     "name": "stdout",
     "output_type": "stream",
     "text": [
      "Model: \"sequential_2\"\n",
      "_________________________________________________________________\n",
      " Layer (type)                Output Shape              Param #   \n",
      "=================================================================\n",
      " conv2d_8 (Conv2D)           (None, 32, 32, 32)        896       \n",
      "                                                                 \n",
      " activation_12 (Activation)  (None, 32, 32, 32)        0         \n",
      "                                                                 \n",
      " conv2d_9 (Conv2D)           (None, 30, 30, 32)        9248      \n",
      "                                                                 \n",
      " activation_13 (Activation)  (None, 30, 30, 32)        0         \n",
      "                                                                 \n",
      " max_pooling2d_4 (MaxPooling  (None, 15, 15, 32)       0         \n",
      " 2D)                                                             \n",
      "                                                                 \n",
      " dropout_6 (Dropout)         (None, 15, 15, 32)        0         \n",
      "                                                                 \n",
      " conv2d_10 (Conv2D)          (None, 15, 15, 64)        18496     \n",
      "                                                                 \n",
      " activation_14 (Activation)  (None, 15, 15, 64)        0         \n",
      "                                                                 \n",
      " conv2d_11 (Conv2D)          (None, 13, 13, 64)        36928     \n",
      "                                                                 \n",
      " activation_15 (Activation)  (None, 13, 13, 64)        0         \n",
      "                                                                 \n",
      " max_pooling2d_5 (MaxPooling  (None, 6, 6, 64)         0         \n",
      " 2D)                                                             \n",
      "                                                                 \n",
      " dropout_7 (Dropout)         (None, 6, 6, 64)          0         \n",
      "                                                                 \n",
      " flatten_2 (Flatten)         (None, 2304)              0         \n",
      "                                                                 \n",
      " dense_4 (Dense)             (None, 1024)              2360320   \n",
      "                                                                 \n",
      " activation_16 (Activation)  (None, 1024)              0         \n",
      "                                                                 \n",
      " dropout_8 (Dropout)         (None, 1024)              0         \n",
      "                                                                 \n",
      " dense_5 (Dense)             (None, 10)                10250     \n",
      "                                                                 \n",
      " activation_17 (Activation)  (None, 10)                0         \n",
      "                                                                 \n",
      "=================================================================\n",
      "Total params: 2,436,138\n",
      "Trainable params: 2,436,138\n",
      "Non-trainable params: 0\n",
      "_________________________________________________________________\n"
     ]
    }
   ],
   "source": [
    "model.summary()"
   ]
  },
  {
   "cell_type": "markdown",
   "id": "b36663c7",
   "metadata": {},
   "source": [
    "Точность почти не изменилась. Увеличим количество нейронов на остальных участках сети"
   ]
  },
  {
   "cell_type": "code",
   "execution_count": 20,
   "id": "bf063d6e",
   "metadata": {},
   "outputs": [
    {
     "name": "stdout",
     "output_type": "stream",
     "text": [
      "Использование data augmentation в реальном времени\n"
     ]
    },
    {
     "name": "stderr",
     "output_type": "stream",
     "text": [
      "C:\\Users\\fedic\\AppData\\Local\\Temp/ipykernel_254380/3025025262.py:68: UserWarning: `Model.fit_generator` is deprecated and will be removed in a future version. Please use `Model.fit`, which supports generators.\n",
      "  model.fit_generator(datagen.flow(x_train, y_train,\n"
     ]
    },
    {
     "name": "stdout",
     "output_type": "stream",
     "text": [
      "Epoch 1/10\n",
      "1563/1563 [==============================] - 498s 318ms/step - loss: 2.0772 - accuracy: 0.2317 - val_loss: 1.8266 - val_accuracy: 0.3447\n",
      "Epoch 2/10\n",
      "1563/1563 [==============================] - 471s 301ms/step - loss: 1.8055 - accuracy: 0.3442 - val_loss: 1.6564 - val_accuracy: 0.4037\n",
      "Epoch 3/10\n",
      "1563/1563 [==============================] - 416s 266ms/step - loss: 1.6499 - accuracy: 0.4005 - val_loss: 1.4528 - val_accuracy: 0.4741\n",
      "Epoch 4/10\n",
      "1563/1563 [==============================] - 446s 286ms/step - loss: 1.5254 - accuracy: 0.4451 - val_loss: 1.3258 - val_accuracy: 0.5272\n",
      "Epoch 5/10\n",
      "1563/1563 [==============================] - 447s 286ms/step - loss: 1.4302 - accuracy: 0.4812 - val_loss: 1.3048 - val_accuracy: 0.5317\n",
      "Epoch 6/10\n",
      "1563/1563 [==============================] - 533s 341ms/step - loss: 1.3704 - accuracy: 0.5059 - val_loss: 1.1953 - val_accuracy: 0.5749\n",
      "Epoch 7/10\n",
      "1563/1563 [==============================] - 601s 384ms/step - loss: 1.3043 - accuracy: 0.5319 - val_loss: 1.1533 - val_accuracy: 0.5859\n",
      "Epoch 8/10\n",
      "1563/1563 [==============================] - 527s 337ms/step - loss: 1.2465 - accuracy: 0.5558 - val_loss: 1.1297 - val_accuracy: 0.5954\n",
      "Epoch 9/10\n",
      "1563/1563 [==============================] - 340s 218ms/step - loss: 1.1957 - accuracy: 0.5761 - val_loss: 1.0295 - val_accuracy: 0.6365\n",
      "Epoch 10/10\n",
      "1563/1563 [==============================] - 458s 293ms/step - loss: 1.1495 - accuracy: 0.5909 - val_loss: 0.9837 - val_accuracy: 0.6566\n",
      "313/313 [==============================] - 23s 75ms/step - loss: 0.9837 - accuracy: 0.6566\n",
      "Test loss: 0.9836710691452026\n",
      "Test accuracy: 0.6565999984741211\n"
     ]
    }
   ],
   "source": [
    "# конфигурирование слоев нейросети\n",
    "model = Sequential()\n",
    "\n",
    "# слои нейросети отвественные за свертку и max-pooling\n",
    "model.add(Conv2D(64, (3, 3), padding='same',\n",
    "                 input_shape=x_train.shape[1:]))\n",
    "model.add(Activation('relu'))\n",
    "model.add(Conv2D(64, (3, 3)))\n",
    "model.add(Activation('relu'))\n",
    "model.add(MaxPooling2D(pool_size=(2, 2)))\n",
    "model.add(Dropout( 0.25))\n",
    "\n",
    "model.add(Conv2D(128, (3, 3), padding='same'))\n",
    "model.add(Activation('relu'))\n",
    "model.add(Conv2D(128, (3, 3)))\n",
    "model.add(Activation('relu'))\n",
    "model.add(MaxPooling2D(pool_size=(2, 2)))\n",
    "model.add(Dropout(0.25))\n",
    "\n",
    "# полносвязные слои нейронной сети\n",
    "model.add(Flatten())\n",
    "model.add(Dense(1024))\n",
    "model.add(Activation('relu'))\n",
    "model.add(Dropout(0.5))\n",
    "model.add(Dense(num_classes))\n",
    "model.add(Activation('softmax'))\n",
    "\n",
    "# компиляция модели\n",
    "model.compile(loss='categorical_crossentropy',\n",
    "              optimizer='SGD',\n",
    "              metrics=['accuracy'])\n",
    "\n",
    "\n",
    "\n",
    "if not data_augmentation:\n",
    "    print('Не используется data augmentation')\n",
    "    model.fit(x_train, y_train,\n",
    "              batch_size=batch_size,\n",
    "              epochs=epochs,\n",
    "              validation_data=(x_test, y_test),\n",
    "              shuffle=True)\n",
    "else:\n",
    "    print('Использование data augmentation в реальном времени')\n",
    "    # Препроцессинг и data augmentation в реальном времени:\n",
    "    datagen = ImageDataGenerator(\n",
    "        featurewise_center=False,\n",
    "        samplewise_center=False,\n",
    "        featurewise_std_normalization=False,\n",
    "        samplewise_std_normalization=False,\n",
    "        zca_whitening=False, \n",
    "        zca_epsilon=1e-06, \n",
    "        rotation_range=5, \n",
    "        width_shift_range=0.1,\n",
    "        height_shift_range=0.1,\n",
    "        shear_range=0., \n",
    "        zoom_range=0., \n",
    "        channel_shift_range=0.,\n",
    "        fill_mode='nearest',\n",
    "        cval=0.,\n",
    "        horizontal_flip=True,\n",
    "        vertical_flip=False,\n",
    "        rescale=None,\n",
    "        preprocessing_function=None,\n",
    "        data_format=None,\n",
    "        validation_split=0.0)\n",
    "\n",
    "    # запуск data augmentation через fit_generator\n",
    "    model.fit_generator(datagen.flow(x_train, y_train,\n",
    "                                     batch_size=batch_size),\n",
    "                        epochs=epochs,\n",
    "                        validation_data=(x_test, y_test),\n",
    "                        workers=-1)\n",
    "\n",
    "\n",
    "# проверка работы обученной модели\n",
    "scores = model.evaluate(x_test, y_test, verbose=1)\n",
    "print('Test loss:', scores[0])\n",
    "print('Test accuracy:', scores[1])"
   ]
  },
  {
   "cell_type": "markdown",
   "id": "13237d58",
   "metadata": {},
   "source": [
    "Теперь точность увеличилась значительно. Оставим такое же  количество нейронов и добавим по одному слою конвалюции в каждый блок"
   ]
  },
  {
   "cell_type": "code",
   "execution_count": 21,
   "id": "07864ba3",
   "metadata": {},
   "outputs": [
    {
     "name": "stdout",
     "output_type": "stream",
     "text": [
      "Использование data augmentation в реальном времени\n",
      "Epoch 1/10\n"
     ]
    },
    {
     "name": "stderr",
     "output_type": "stream",
     "text": [
      "C:\\Users\\fedic\\AppData\\Local\\Temp/ipykernel_254380/3759991653.py:72: UserWarning: `Model.fit_generator` is deprecated and will be removed in a future version. Please use `Model.fit`, which supports generators.\n",
      "  model.fit_generator(datagen.flow(x_train, y_train,\n"
     ]
    },
    {
     "name": "stdout",
     "output_type": "stream",
     "text": [
      "1563/1563 [==============================] - 525s 335ms/step - loss: 2.1385 - accuracy: 0.1995 - val_loss: 1.9043 - val_accuracy: 0.3102\n",
      "Epoch 2/10\n",
      "1563/1563 [==============================] - 501s 320ms/step - loss: 1.8618 - accuracy: 0.3210 - val_loss: 1.6216 - val_accuracy: 0.4110\n",
      "Epoch 3/10\n",
      "1563/1563 [==============================] - 542s 347ms/step - loss: 1.6691 - accuracy: 0.3896 - val_loss: 1.4869 - val_accuracy: 0.4615\n",
      "Epoch 4/10\n",
      "1563/1563 [==============================] - 508s 325ms/step - loss: 1.5614 - accuracy: 0.4305 - val_loss: 1.4078 - val_accuracy: 0.4917\n",
      "Epoch 5/10\n",
      "1563/1563 [==============================] - 522s 334ms/step - loss: 1.4817 - accuracy: 0.4579 - val_loss: 1.2979 - val_accuracy: 0.5335\n",
      "Epoch 6/10\n",
      "1563/1563 [==============================] - 533s 341ms/step - loss: 1.4206 - accuracy: 0.4847 - val_loss: 1.2736 - val_accuracy: 0.5504\n",
      "Epoch 7/10\n",
      "1563/1563 [==============================] - 542s 347ms/step - loss: 1.3620 - accuracy: 0.5093 - val_loss: 1.2063 - val_accuracy: 0.5714\n",
      "Epoch 8/10\n",
      "1563/1563 [==============================] - 475s 304ms/step - loss: 1.3116 - accuracy: 0.5283 - val_loss: 1.1898 - val_accuracy: 0.5765\n",
      "Epoch 9/10\n",
      "1563/1563 [==============================] - 459s 294ms/step - loss: 1.2708 - accuracy: 0.5425 - val_loss: 1.1311 - val_accuracy: 0.5975\n",
      "Epoch 10/10\n",
      "1563/1563 [==============================] - 502s 321ms/step - loss: 1.2244 - accuracy: 0.5643 - val_loss: 1.0586 - val_accuracy: 0.6236\n",
      "313/313 [==============================] - 20s 64ms/step - loss: 1.0586 - accuracy: 0.6236\n",
      "Test loss: 1.0586490631103516\n",
      "Test accuracy: 0.6236000061035156\n"
     ]
    }
   ],
   "source": [
    "# конфигурирование слоев нейросети\n",
    "model = Sequential()\n",
    "\n",
    "# слои нейросети отвественные за свертку и max-pooling\n",
    "model.add(Conv2D(64, (3, 3), padding='same',\n",
    "                 input_shape=x_train.shape[1:]))\n",
    "model.add(Activation('relu'))\n",
    "model.add(Conv2D(64, (3, 3)))\n",
    "model.add(Activation('relu'))\n",
    "model.add(Conv2D(64, (3, 3)))\n",
    "model.add(Activation('relu'))\n",
    "model.add(MaxPooling2D(pool_size=(2, 2)))\n",
    "model.add(Dropout( 0.25))\n",
    "\n",
    "model.add(Conv2D(128, (3, 3), padding='same'))\n",
    "model.add(Activation('relu'))\n",
    "model.add(Conv2D(128, (3, 3)))\n",
    "model.add(Activation('relu'))\n",
    "model.add(Conv2D(128, (3, 3)))\n",
    "model.add(Activation('relu'))\n",
    "model.add(MaxPooling2D(pool_size=(2, 2)))\n",
    "model.add(Dropout(0.25))\n",
    "\n",
    "# полносвязные слои нейронной сети\n",
    "model.add(Flatten())\n",
    "model.add(Dense(1024))\n",
    "model.add(Activation('relu'))\n",
    "model.add(Dropout(0.5))\n",
    "model.add(Dense(num_classes))\n",
    "model.add(Activation('softmax'))\n",
    "\n",
    "# компиляция модели\n",
    "model.compile(loss='categorical_crossentropy',\n",
    "              optimizer='SGD',\n",
    "              metrics=['accuracy'])\n",
    "\n",
    "\n",
    "\n",
    "if not data_augmentation:\n",
    "    print('Не используется data augmentation')\n",
    "    model.fit(x_train, y_train,\n",
    "              batch_size=batch_size,\n",
    "              epochs=epochs,\n",
    "              validation_data=(x_test, y_test),\n",
    "              shuffle=True)\n",
    "else:\n",
    "    print('Использование data augmentation в реальном времени')\n",
    "    # Препроцессинг и data augmentation в реальном времени:\n",
    "    datagen = ImageDataGenerator(\n",
    "        featurewise_center=False,\n",
    "        samplewise_center=False,\n",
    "        featurewise_std_normalization=False,\n",
    "        samplewise_std_normalization=False,\n",
    "        zca_whitening=False, \n",
    "        zca_epsilon=1e-06, \n",
    "        rotation_range=5, \n",
    "        width_shift_range=0.1,\n",
    "        height_shift_range=0.1,\n",
    "        shear_range=0., \n",
    "        zoom_range=0., \n",
    "        channel_shift_range=0.,\n",
    "        fill_mode='nearest',\n",
    "        cval=0.,\n",
    "        horizontal_flip=True,\n",
    "        vertical_flip=False,\n",
    "        rescale=None,\n",
    "        preprocessing_function=None,\n",
    "        data_format=None,\n",
    "        validation_split=0.0)\n",
    "\n",
    "    # запуск data augmentation через fit_generator\n",
    "    model.fit_generator(datagen.flow(x_train, y_train,\n",
    "                                     batch_size=batch_size),\n",
    "                        epochs=epochs,\n",
    "                        validation_data=(x_test, y_test),\n",
    "                        workers=-1)\n",
    "\n",
    "\n",
    "# проверка работы обученной модели\n",
    "scores = model.evaluate(x_test, y_test, verbose=1)\n",
    "print('Test loss:', scores[0])\n",
    "print('Test accuracy:', scores[1])"
   ]
  },
  {
   "cell_type": "markdown",
   "id": "f90beead",
   "metadata": {},
   "source": [
    "Точность по сравнению с предыдущим примером упала, но она всё же выше чем в первом эксперименте.\n",
    "\n",
    "И в последнем эксперименте попробуем взять предыдущую конфигурацию, но поменяем размер конволюционого окна"
   ]
  },
  {
   "cell_type": "code",
   "execution_count": 27,
   "id": "336dc98d",
   "metadata": {},
   "outputs": [
    {
     "name": "stdout",
     "output_type": "stream",
     "text": [
      "Использование data augmentation в реальном времени\n",
      "Epoch 1/10\n"
     ]
    },
    {
     "name": "stderr",
     "output_type": "stream",
     "text": [
      "C:\\Users\\fedic\\AppData\\Local\\Temp/ipykernel_254380/2199462360.py:68: UserWarning: `Model.fit_generator` is deprecated and will be removed in a future version. Please use `Model.fit`, which supports generators.\n",
      "  model.fit_generator(datagen.flow(x_train, y_train,\n"
     ]
    },
    {
     "name": "stdout",
     "output_type": "stream",
     "text": [
      "1563/1563 [==============================] - 654s 418ms/step - loss: 2.0532 - accuracy: 0.2347 - val_loss: 1.7306 - val_accuracy: 0.3705\n",
      "Epoch 2/10\n",
      "1563/1563 [==============================] - 714s 457ms/step - loss: 1.7019 - accuracy: 0.3746 - val_loss: 1.4544 - val_accuracy: 0.4707\n",
      "Epoch 3/10\n",
      "1563/1563 [==============================] - 681s 436ms/step - loss: 1.5256 - accuracy: 0.4438 - val_loss: 1.3340 - val_accuracy: 0.5249\n",
      "Epoch 4/10\n",
      "1563/1563 [==============================] - 729s 466ms/step - loss: 1.4178 - accuracy: 0.4843 - val_loss: 1.2118 - val_accuracy: 0.5709\n",
      "Epoch 5/10\n",
      "1563/1563 [==============================] - 651s 416ms/step - loss: 1.3305 - accuracy: 0.5206 - val_loss: 1.1621 - val_accuracy: 0.5893\n",
      "Epoch 6/10\n",
      "1563/1563 [==============================] - 592s 379ms/step - loss: 1.2585 - accuracy: 0.5468 - val_loss: 1.0686 - val_accuracy: 0.6166\n",
      "Epoch 7/10\n",
      "1563/1563 [==============================] - 673s 431ms/step - loss: 1.1904 - accuracy: 0.5744 - val_loss: 1.0945 - val_accuracy: 0.6110\n",
      "Epoch 8/10\n",
      "1563/1563 [==============================] - 701s 448ms/step - loss: 1.1244 - accuracy: 0.6003 - val_loss: 1.0115 - val_accuracy: 0.6409\n",
      "Epoch 9/10\n",
      "1563/1563 [==============================] - 628s 402ms/step - loss: 1.0655 - accuracy: 0.6223 - val_loss: 0.9155 - val_accuracy: 0.6741\n",
      "Epoch 10/10\n",
      "1563/1563 [==============================] - 574s 367ms/step - loss: 1.0089 - accuracy: 0.6411 - val_loss: 0.9349 - val_accuracy: 0.6737\n",
      "313/313 [==============================] - 34s 107ms/step - loss: 0.9349 - accuracy: 0.6737\n",
      "Test loss: 0.9349273443222046\n",
      "Test accuracy: 0.6736999750137329\n"
     ]
    }
   ],
   "source": [
    "# конфигурирование слоев нейросети\n",
    "model = Sequential()\n",
    "\n",
    "# слои нейросети отвественные за свертку и max-pooling\n",
    "model.add(Conv2D(64, (5, 5), padding='same',\n",
    "                 input_shape=x_train.shape[1:]))\n",
    "model.add(Activation('relu'))\n",
    "model.add(Conv2D(64, (5, 5)))\n",
    "model.add(Activation('relu'))\n",
    "model.add(MaxPooling2D(pool_size=(2, 2)))\n",
    "model.add(Dropout( 0.25))\n",
    "\n",
    "model.add(Conv2D(128, (5, 5), padding='same'))\n",
    "model.add(Activation('relu'))\n",
    "model.add(Conv2D(128, (5, 5)))\n",
    "model.add(Activation('relu'))\n",
    "model.add(MaxPooling2D(pool_size=(2, 2)))\n",
    "model.add(Dropout(0.25))\n",
    "\n",
    "# полносвязные слои нейронной сети\n",
    "model.add(Flatten())\n",
    "model.add(Dense(1024))\n",
    "model.add(Activation('relu'))\n",
    "model.add(Dropout(0.5))\n",
    "model.add(Dense(num_classes))\n",
    "model.add(Activation('softmax'))\n",
    "\n",
    "# компиляция модели\n",
    "model.compile(loss='categorical_crossentropy',\n",
    "              optimizer='SGD',\n",
    "              metrics=['accuracy'])\n",
    "\n",
    "\n",
    "\n",
    "if not data_augmentation:\n",
    "    print('Не используется data augmentation')\n",
    "    model.fit(x_train, y_train,\n",
    "              batch_size=batch_size,\n",
    "              epochs=epochs,\n",
    "              validation_data=(x_test, y_test),\n",
    "              shuffle=True)\n",
    "else:\n",
    "    print('Использование data augmentation в реальном времени')\n",
    "    # Препроцессинг и data augmentation в реальном времени:\n",
    "    datagen = ImageDataGenerator(\n",
    "        featurewise_center=False,\n",
    "        samplewise_center=False,\n",
    "        featurewise_std_normalization=False,\n",
    "        samplewise_std_normalization=False,\n",
    "        zca_whitening=False, \n",
    "        zca_epsilon=1e-06, \n",
    "        rotation_range=5, \n",
    "        width_shift_range=0.1,\n",
    "        height_shift_range=0.1,\n",
    "        shear_range=0., \n",
    "        zoom_range=0., \n",
    "        channel_shift_range=0.,\n",
    "        fill_mode='nearest',\n",
    "        cval=0.,\n",
    "        horizontal_flip=True,\n",
    "        vertical_flip=False,\n",
    "        rescale=None,\n",
    "        preprocessing_function=None,\n",
    "        data_format=None,\n",
    "        validation_split=0.0)\n",
    "\n",
    "    # запуск data augmentation через fit_generator\n",
    "    model.fit_generator(datagen.flow(x_train, y_train,\n",
    "                                     batch_size=batch_size),\n",
    "                        epochs=epochs,\n",
    "                        validation_data=(x_test, y_test),\n",
    "                        workers=-1)\n",
    "\n",
    "\n",
    "# проверка работы обученной модели\n",
    "scores = model.evaluate(x_test, y_test, verbose=1)\n",
    "print('Test loss:', scores[0])\n",
    "print('Test accuracy:', scores[1])"
   ]
  },
  {
   "cell_type": "code",
   "execution_count": 28,
   "id": "4b0efef9",
   "metadata": {},
   "outputs": [
    {
     "name": "stdout",
     "output_type": "stream",
     "text": [
      "1/1 [==============================] - 0s 254ms/step\n"
     ]
    },
    {
     "data": {
      "image/png": "[encoded data removed]",
      "text/plain": [
       "<Figure size 432x288 with 1 Axes>"
      ]
     },
     "metadata": {
      "needs_background": "light"
     },
     "output_type": "display_data"
    }
   ],
   "source": [
    "N = 32\n",
    "y_p=model.predict(x_test[N:N+1][:,:,:])\n",
    "y_t = np.argmax(y_test[N:N+1], axis = 1 )\n",
    "y_i = np.argmax(y_p, axis = 1 )\n",
    "plt.imshow(x_test[N][:,:,:])\n",
    "plt.title('это : '+classes[y_t[0]]+'- опознан как : '+classes[y_i[0]])\n",
    "plt.show()"
   ]
  },
  {
   "cell_type": "markdown",
   "id": "e10479a2",
   "metadata": {},
   "source": [
    "Олень наконец то распознался как олень!)\n",
    "\n",
    "Последний эксперимент показал самое лучшее качество.\n",
    "\n",
    "В целом могу сделать вывод что для данных условий лучшим решение для улучшения качества оказалось увеличение количества нейронов и увеличение размера ковалюционного окна"
   ]
  }
 ],
 "metadata": {
  "kernelspec": {
   "display_name": "Python 3 (ipykernel)",
   "language": "python",
   "name": "python3"
  },
  "language_info": {
   "codemirror_mode": {
    "name": "ipython",
    "version": 3
   },
   "file_extension": ".py",
   "mimetype": "text/x-python",
   "name": "python",
   "nbconvert_exporter": "python",
   "pygments_lexer": "ipython3",
   "version": "3.9.7"
  }
 },
 "nbformat": 4,
 "nbformat_minor": 5
}
